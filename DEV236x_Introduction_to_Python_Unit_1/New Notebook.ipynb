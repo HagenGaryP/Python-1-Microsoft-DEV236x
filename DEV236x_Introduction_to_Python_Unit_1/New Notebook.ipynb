{
  "cells": [
    {
      "metadata": {},
      "cell_type": "markdown",
      "source": "Here we write instructions for the course and explain concepts"
    },
    {
      "metadata": {
        "trusted": true
      },
      "cell_type": "code",
      "source": "x = 3",
      "execution_count": 1,
      "outputs": []
    },
    {
      "metadata": {
        "trusted": true
      },
      "cell_type": "code",
      "source": "x",
      "execution_count": 2,
      "outputs": [
        {
          "output_type": "execute_result",
          "execution_count": 2,
          "data": {
            "text/plain": "3"
          },
          "metadata": {}
        }
      ]
    },
    {
      "metadata": {
        "trusted": true
      },
      "cell_type": "code",
      "source": "# This is \"Hello World\" for Python 3\nprint(\"Hello World!\")",
      "execution_count": 3,
      "outputs": [
        {
          "output_type": "stream",
          "text": "Hello World!\n",
          "name": "stdout"
        }
      ]
    },
    {
      "metadata": {
        "trusted": true
      },
      "cell_type": "code",
      "source": "print(\"Hello Students!\")",
      "execution_count": 4,
      "outputs": [
        {
          "output_type": "stream",
          "text": "Hello Students!\n",
          "name": "stdout"
        }
      ]
    },
    {
      "metadata": {},
      "cell_type": "markdown",
      "source": "## Concepts \n<br></br>\n### Notebooks and Libraries <br></br>\nJupyter Notebooks provide a balance of jotting down important summary information along with proving a live code development environment where we can write and run python code. This course uses cloud hosted Jupyter Notebooks on Microsoft Azure and we will walk through the basics and some best practices for notebook use.\n<br></br>\n### add a notebook library <br></br>\nNew: https://notebooks.azure.com/library > New Library<br></br>\nLink: from a shared Azure Notebook library link > open link, sign in> clone and Run<br></br>\nAdd: open library > Add Notebooks > from computer > navigate to file(s) <br></br>\n\n### working in notebook cells\n<br></br>\nMarkdown cells display text in a web page format. Markdown is code that formats the way the cell displays (this cell is Markdown)<br></br>\nCode cells contain python code and can be interpreted and run from a cell. Code cells display code and output.<br></br>\nin edit or previously run: cells can display in editing mode or cells can display results of code having been run<br></br>"
    },
    {
      "metadata": {},
      "cell_type": "markdown",
      "source": "## edit mode\n<br></br>\n**text** cells in editing mode show markdown code<br></br>\nMarkdown cells keep editing mode appearance until the cell is run<br></br>\n**code** (python 3) cells in editing look the same after editing, but may show different run output<br></br>\nclicking another cell moves the green highlight that indicates which cell has active editing focus<br></br>\n<br></br>\n## cells need to be saved<br></br>\nthe notebook will frequently auto save<br></br>\nbest practice is to manually save after editing a cell using **\"Ctrl + S\"** or alternatively, **Menu: File > Save and Checkpoint**<br></br>"
    },
    {
      "metadata": {
        "trusted": true
      },
      "cell_type": "code",
      "source": "x = 2\ny = x + 5 +3\ny",
      "execution_count": 6,
      "outputs": [
        {
          "output_type": "execute_result",
          "execution_count": 6,
          "data": {
            "text/plain": "10"
          },
          "metadata": {}
        }
      ]
    },
    {
      "metadata": {},
      "cell_type": "markdown",
      "source": "# Use Jupyter to\n\n* Set the programing language\n* Reset the Kernel\n* Insert new cells"
    },
    {
      "metadata": {
        "trusted": true
      },
      "cell_type": "code",
      "source": "x = 1",
      "execution_count": 7,
      "outputs": []
    },
    {
      "metadata": {
        "trusted": true
      },
      "cell_type": "code",
      "source": "y = 5",
      "execution_count": 8,
      "outputs": []
    },
    {
      "metadata": {},
      "cell_type": "markdown",
      "source": "# &nbsp;\n<font size=\"6\" color=\"#00A0B2\"  face=\"verdana\"> <B>Concepts</B></font>\n## Altering Notebook Structure\n\n### add a cell\n- Highlight any cell and then... add a new cell using **Menu: Insert > Insert Cell Below** or **Insert Cell Above**\n- Add with Keyboard Shortcut: **\"ESC + A\"** to insert above or **\"ESC + B\"** to insert below\n\n### choose cell type\n- Format cells as Markdown or Code via the toolbar dropdown or **Menu: Cell > Cell Type > Code** or **Markdown** \n- Cells default to Code when created but can be reformatted from code to Markdown and vice versa  \n\n### change notebook page language\n- The course uses Python 3 but Jupyter Notebooks can be in Python 2 or 3 (and a language called R)\n- To change a notebook to Python 3 go to **\"Menu: Kernel > Change Kernel> Python 3\"**"
    },
    {
      "metadata": {},
      "cell_type": "markdown",
      "source": "# &nbsp;\n<font size=\"6\" color=\"#B24C00\"  face=\"verdana\"> <B>Task 2</B></font>\n## Insert a new cell\n-  Insert a new Code cell below with a comment describing the task\n-  edit cell: add print() with the message \"after edit, save!\"\n-  run the cell"
    },
    {
      "metadata": {
        "trusted": true
      },
      "cell_type": "code",
      "source": "# Added new cell to edit and run\nprint(\"after edit, save!\")",
      "execution_count": 10,
      "outputs": [
        {
          "output_type": "stream",
          "text": "after edit, save!\n",
          "name": "stdout"
        }
      ]
    },
    {
      "metadata": {
        "trusted": true
      },
      "cell_type": "code",
      "source": "x",
      "execution_count": 11,
      "outputs": [
        {
          "output_type": "execute_result",
          "execution_count": 11,
          "data": {
            "text/plain": "1"
          },
          "metadata": {}
        }
      ]
    }
  ],
  "metadata": {
    "kernelspec": {
      "name": "python3",
      "display_name": "Python 3",
      "language": "python"
    },
    "language_info": {
      "mimetype": "text/x-python",
      "nbconvert_exporter": "python",
      "name": "python",
      "file_extension": ".py",
      "version": "3.5.4",
      "pygments_lexer": "ipython3",
      "codemirror_mode": {
        "version": 3,
        "name": "ipython"
      }
    }
  },
  "nbformat": 4,
  "nbformat_minor": 1
}